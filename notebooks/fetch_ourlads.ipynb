{
 "cells": [
  {
   "cell_type": "code",
   "execution_count": 1,
   "metadata": {},
   "outputs": [],
   "source": [
    "# Import standard libraries\n",
    "import time\n",
    "# Import layer dependencies\n",
    "from requests_html import AsyncHTMLSession\n",
    "import numpy as np\n",
    "import pandas as pd"
   ]
  },
  {
   "cell_type": "code",
   "execution_count": 2,
   "metadata": {},
   "outputs": [],
   "source": [
    "# Config\n",
    "# Create requests_html session\n",
    "session = AsyncHTMLSession()"
   ]
  },
  {
   "cell_type": "code",
   "execution_count": 4,
   "metadata": {},
   "outputs": [
    {
     "name": "stderr",
     "output_type": "stream",
     "text": [
      "/var/folders/ss/nt9sccdn5w91sbtr85gybrnm0000gn/T/ipykernel_32311/913426750.py:10: FutureWarning: Passing literal html to 'read_html' is deprecated and will be removed in a future version. To read from a literal string, wrap it in a 'StringIO' object.\n",
      "  ourlads = pd.read_html(element)[0]\n"
     ]
    }
   ],
   "source": [
    "# Scrape the OurLads site to find out which players are punt/kick returners\n",
    "r = await session.get(\"https://www.ourlads.com/nfldepthcharts/depthcharts.aspx\")\n",
    "# Render the JavaScript\n",
    "await r.html.arender()\n",
    "# Find the table to scrape\n",
    "element = r.html.find('#ctl00_phContent_gvChart')[0].html\n",
    "\n",
    "# Transform data\n",
    "# Convert to dataframe\n",
    "ourlads = pd.read_html(element)[0]\n",
    "# Filter for only the needed columns\n",
    "ourlads = ourlads[['Team', 'Pos', 'Player 1', 'Player 2', 'Player 3', 'Player 4', 'Player 5']]\n",
    "# Rename columns of Position Ranks; limit number of ranks to three\n",
    "ourlads = ourlads.rename(columns={\n",
    "    'Player 1':'1',\n",
    "    'Player 2':'2',\n",
    "    'Player 3':'3',\n",
    "    'Player 4':'3',\n",
    "    'Player 5':'3',\n",
    "})\n",
    "# Filter only relevant positions\n",
    "posList = ['LWR', 'RWR', 'SWR', 'TE', 'QB', 'RB', 'PK', 'PR', 'KR', 'RES']\n",
    "ourlads = ourlads.loc[ourlads['Pos'].isin(posList)]\n",
    "\n",
    "# Transpose columns to rows to get position ranks in row form rather than column\n",
    "ourlads = ourlads.melt(id_vars=[\"Team\", \"Pos\"], \n",
    "    var_name=\"posRank\", \n",
    "    value_name=\"playerName\")\n",
    "# Create id_ourlads column\n",
    "ourlads = ourlads.dropna(subset='playerName')\n",
    "ourlads['lName'] = ourlads['playerName'].str.split(\", \", expand=True)[0]\n",
    "ourlads['fName'] = ourlads['playerName'].str.split(\", \", expand=True)[1].str.split(\" \", expand=True)[0]\n",
    "ourlads['id_ourlads'] = ourlads['fName'] + \" \" + ourlads['lName']\n",
    "ourlads['id_ourlads'] = ourlads['id_ourlads'].str.replace(\".\", \"\")\n",
    "ourlads['id_ourlads'] = ourlads['id_ourlads'].str.title()\n",
    "ourlads['id_ourlads'] = [\" \".join(x.split(\" \")[:2]) for x in ourlads['id_ourlads']]\n",
    "\n",
    "# Find Punt Returners & Kick Returners\n",
    "condition1 = ourlads['Pos']=='PR'\n",
    "condition2 = ourlads['Pos']=='KR'\n",
    "condition3 = ourlads['posRank']==\"1\"\n",
    "prs = ourlads.loc[condition1 & condition3]['id_ourlads'].unique()\n",
    "krs = ourlads.loc[condition2 & condition3]['id_ourlads'].unique()\n",
    "# Make columns to mark players who are punt returners or kick returners\n",
    "ourlads.loc[ourlads['id_ourlads'].isin(prs), 'PR'] = True\n",
    "ourlads.loc[ourlads['id_ourlads'].isin(krs), 'KR'] = True\n",
    "\n",
    "# Filter out players who are not punt returners or kick returners\n",
    "ourlads = ourlads.loc[(ourlads['PR']==True) | (ourlads['KR']==True)]\n",
    "ourlads = ourlads.drop_duplicates(subset='id_ourlads', ignore_index=True)\n",
    "ourlads = ourlads[['id_ourlads', 'PR', 'KR']]"
   ]
  },
  {
   "cell_type": "code",
   "execution_count": 5,
   "metadata": {},
   "outputs": [
    {
     "data": {
      "text/html": [
       "<div>\n",
       "<style scoped>\n",
       "    .dataframe tbody tr th:only-of-type {\n",
       "        vertical-align: middle;\n",
       "    }\n",
       "\n",
       "    .dataframe tbody tr th {\n",
       "        vertical-align: top;\n",
       "    }\n",
       "\n",
       "    .dataframe thead th {\n",
       "        text-align: right;\n",
       "    }\n",
       "</style>\n",
       "<table border=\"1\" class=\"dataframe\">\n",
       "  <thead>\n",
       "    <tr style=\"text-align: right;\">\n",
       "      <th></th>\n",
       "      <th>id_ourlads</th>\n",
       "      <th>PR</th>\n",
       "      <th>KR</th>\n",
       "    </tr>\n",
       "  </thead>\n",
       "  <tbody>\n",
       "    <tr>\n",
       "      <th>0</th>\n",
       "      <td>Greg Dortch</td>\n",
       "      <td>True</td>\n",
       "      <td>NaN</td>\n",
       "    </tr>\n",
       "    <tr>\n",
       "      <th>1</th>\n",
       "      <td>Deejay Dallas</td>\n",
       "      <td>NaN</td>\n",
       "      <td>True</td>\n",
       "    </tr>\n",
       "    <tr>\n",
       "      <th>2</th>\n",
       "      <td>Avery Williams</td>\n",
       "      <td>True</td>\n",
       "      <td>True</td>\n",
       "    </tr>\n",
       "    <tr>\n",
       "      <th>3</th>\n",
       "      <td>Tylan Wallace</td>\n",
       "      <td>True</td>\n",
       "      <td>NaN</td>\n",
       "    </tr>\n",
       "    <tr>\n",
       "      <th>4</th>\n",
       "      <td>Justice Hill</td>\n",
       "      <td>NaN</td>\n",
       "      <td>True</td>\n",
       "    </tr>\n",
       "  </tbody>\n",
       "</table>\n",
       "</div>"
      ],
      "text/plain": [
       "       id_ourlads    PR    KR\n",
       "0     Greg Dortch  True   NaN\n",
       "1   Deejay Dallas   NaN  True\n",
       "2  Avery Williams  True  True\n",
       "3   Tylan Wallace  True   NaN\n",
       "4    Justice Hill   NaN  True"
      ]
     },
     "execution_count": 5,
     "metadata": {},
     "output_type": "execute_result"
    }
   ],
   "source": [
    "ourlads.head()"
   ]
  },
  {
   "cell_type": "code",
   "execution_count": 6,
   "metadata": {},
   "outputs": [],
   "source": [
    "# Write to csv\n",
    "ourlads.to_csv('ourlads.csv', index=False)\n",
    "# This file can now be uploaded to s3"
   ]
  },
  {
   "cell_type": "code",
   "execution_count": null,
   "metadata": {},
   "outputs": [],
   "source": [
    "# Identify any ourlads players who are not in the ids dataset\n",
    "ids = pd.read_csv(\"test_data/lu_ids.csv\")\n",
    "ourlads_to_be_added = ourlads.loc[~ourlads['id_ourlads'].isin(ids['id_ourlads'])]\n",
    "ourlads_to_be_added.to_csv(\"test_data/ourlads_to_be_added.csv\", index=False)"
   ]
  }
 ],
 "metadata": {
  "kernelspec": {
   "display_name": "Python 3.12.3 ('fnfl2024')",
   "language": "python",
   "name": "python3"
  },
  "language_info": {
   "codemirror_mode": {
    "name": "ipython",
    "version": 3
   },
   "file_extension": ".py",
   "mimetype": "text/x-python",
   "name": "python",
   "nbconvert_exporter": "python",
   "pygments_lexer": "ipython3",
   "version": "3.12.3"
  },
  "orig_nbformat": 4,
  "vscode": {
   "interpreter": {
    "hash": "33dbe7c72db16b281083c7de59ed8ec8f22d2824957f89e4bfb828dc6fc75088"
   }
  }
 },
 "nbformat": 4,
 "nbformat_minor": 2
}

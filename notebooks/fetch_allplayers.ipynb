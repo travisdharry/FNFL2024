{
 "cells": [
  {
   "cell_type": "code",
   "execution_count": 4,
   "metadata": {},
   "outputs": [],
   "source": [
    "# Import standard libraries\n",
    "import json, os\n",
    "import requests\n",
    "import pandas as pd"
   ]
  },
  {
   "cell_type": "code",
   "execution_count": 2,
   "metadata": {},
   "outputs": [],
   "source": [
    "# Use requests library to fetch all players from Sleeper API\n",
    "response = requests.get('https://api.sleeper.app/v1/players/nfl').json()"
   ]
  },
  {
   "cell_type": "code",
   "execution_count": 16,
   "metadata": {},
   "outputs": [],
   "source": [
    "# Convert JSON to dataframe\n",
    "allplayers = pd.DataFrame.from_dict(response)\n",
    "# Transpose dataframe\n",
    "allplayers = allplayers.T\n",
    "# Create a column for id_sleeper based on the index\n",
    "allplayers = allplayers.reset_index(names='id_sleeper')\n",
    "# Filter out inactive players\n",
    "allplayers = allplayers.loc[allplayers['status']!=\"Inactive\"]"
   ]
  },
  {
   "cell_type": "code",
   "execution_count": 17,
   "metadata": {},
   "outputs": [],
   "source": [
    "# Identify players that need to be added to the id dataset\n",
    "ids = pd.read_csv(\"test_data/lu_ids.csv\")\n",
    "allplayers_to_be_added = allplayers.loc[~allplayers['id_sleeper'].isin(ids['id_sleeper'])]\n",
    "allplayers_to_be_added = allplayers_to_be_added[['id_sleeper', 'full_name']]\n",
    "allplayers_to_be_added.to_csv(\"test_data/allplayers_to_be_added.csv\", index=False)"
   ]
  },
  {
   "cell_type": "code",
   "execution_count": 19,
   "metadata": {},
   "outputs": [
    {
     "data": {
      "text/html": [
       "<div>\n",
       "<style scoped>\n",
       "    .dataframe tbody tr th:only-of-type {\n",
       "        vertical-align: middle;\n",
       "    }\n",
       "\n",
       "    .dataframe tbody tr th {\n",
       "        vertical-align: top;\n",
       "    }\n",
       "\n",
       "    .dataframe thead th {\n",
       "        text-align: right;\n",
       "    }\n",
       "</style>\n",
       "<table border=\"1\" class=\"dataframe\">\n",
       "  <thead>\n",
       "    <tr style=\"text-align: right;\">\n",
       "      <th></th>\n",
       "      <th>id_sleeper</th>\n",
       "      <th>full_name</th>\n",
       "    </tr>\n",
       "  </thead>\n",
       "  <tbody>\n",
       "    <tr>\n",
       "      <th>4</th>\n",
       "      <td>4810</td>\n",
       "      <td>Kwayde Miller</td>\n",
       "    </tr>\n",
       "    <tr>\n",
       "      <th>7</th>\n",
       "      <td>7209</td>\n",
       "      <td>Garrett Taylor</td>\n",
       "    </tr>\n",
       "    <tr>\n",
       "      <th>10</th>\n",
       "      <td>5843</td>\n",
       "      <td>Devin Bush</td>\n",
       "    </tr>\n",
       "    <tr>\n",
       "      <th>11</th>\n",
       "      <td>7719</td>\n",
       "      <td>Jordan Smith</td>\n",
       "    </tr>\n",
       "    <tr>\n",
       "      <th>12</th>\n",
       "      <td>5620</td>\n",
       "      <td>Elijaah Goins</td>\n",
       "    </tr>\n",
       "    <tr>\n",
       "      <th>...</th>\n",
       "      <td>...</td>\n",
       "      <td>...</td>\n",
       "    </tr>\n",
       "    <tr>\n",
       "      <th>10557</th>\n",
       "      <td>995</td>\n",
       "      <td>Ron Parker</td>\n",
       "    </tr>\n",
       "    <tr>\n",
       "      <th>10558</th>\n",
       "      <td>8478</td>\n",
       "      <td>Samuel Womack</td>\n",
       "    </tr>\n",
       "    <tr>\n",
       "      <th>10559</th>\n",
       "      <td>1875</td>\n",
       "      <td>C.J. Mosley</td>\n",
       "    </tr>\n",
       "    <tr>\n",
       "      <th>10561</th>\n",
       "      <td>8842</td>\n",
       "      <td>Malkelm Morrison</td>\n",
       "    </tr>\n",
       "    <tr>\n",
       "      <th>10562</th>\n",
       "      <td>11255</td>\n",
       "      <td>Nick Amoah</td>\n",
       "    </tr>\n",
       "  </tbody>\n",
       "</table>\n",
       "<p>4920 rows × 2 columns</p>\n",
       "</div>"
      ],
      "text/plain": [
       "      id_sleeper         full_name\n",
       "4           4810     Kwayde Miller\n",
       "7           7209    Garrett Taylor\n",
       "10          5843        Devin Bush\n",
       "11          7719      Jordan Smith\n",
       "12          5620     Elijaah Goins\n",
       "...          ...               ...\n",
       "10557        995        Ron Parker\n",
       "10558       8478     Samuel Womack\n",
       "10559       1875       C.J. Mosley\n",
       "10561       8842  Malkelm Morrison\n",
       "10562      11255        Nick Amoah\n",
       "\n",
       "[4920 rows x 2 columns]"
      ]
     },
     "execution_count": 19,
     "metadata": {},
     "output_type": "execute_result"
    }
   ],
   "source": [
    "allplayers_to_be_added"
   ]
  },
  {
   "cell_type": "code",
   "execution_count": null,
   "metadata": {},
   "outputs": [],
   "source": []
  }
 ],
 "metadata": {
  "kernelspec": {
   "display_name": "Python 3.12.3 ('fnfl2024')",
   "language": "python",
   "name": "python3"
  },
  "language_info": {
   "codemirror_mode": {
    "name": "ipython",
    "version": 3
   },
   "file_extension": ".py",
   "mimetype": "text/x-python",
   "name": "python",
   "nbconvert_exporter": "python",
   "pygments_lexer": "ipython3",
   "version": "3.12.3"
  },
  "orig_nbformat": 4,
  "vscode": {
   "interpreter": {
    "hash": "33dbe7c72db16b281083c7de59ed8ec8f22d2824957f89e4bfb828dc6fc75088"
   }
  }
 },
 "nbformat": 4,
 "nbformat_minor": 2
}

{
 "cells": [
  {
   "cell_type": "code",
   "execution_count": 1,
   "metadata": {},
   "outputs": [],
   "source": [
    "# Import standard libraries\n",
    "import json, os\n",
    "import requests\n",
    "import pandas as pd"
   ]
  },
  {
   "cell_type": "code",
   "execution_count": 2,
   "metadata": {},
   "outputs": [],
   "source": [
    "# Use requests library to fetch all players from Sleeper API\n",
    "response = requests.get('https://api.sleeper.app/v1/players/nfl').json()"
   ]
  },
  {
   "cell_type": "code",
   "execution_count": 11,
   "metadata": {},
   "outputs": [],
   "source": [
    "# Convert JSON to dataframe\n",
    "allplayers = pd.DataFrame.from_dict(response)\n",
    "# Transpose dataframe\n",
    "allplayers = allplayers.T\n",
    "# Create a column for id_sleeper based on the index\n",
    "allplayers = allplayers.reset_index(names='id_sleeper')\n",
    "# Filter out inactive players\n",
    "allplayers = allplayers.loc[allplayers['status']!=\"Inactive\"]"
   ]
  },
  {
   "cell_type": "code",
   "execution_count": 10,
   "metadata": {},
   "outputs": [
    {
     "data": {
      "text/html": [
       "<div>\n",
       "<style scoped>\n",
       "    .dataframe tbody tr th:only-of-type {\n",
       "        vertical-align: middle;\n",
       "    }\n",
       "\n",
       "    .dataframe tbody tr th {\n",
       "        vertical-align: top;\n",
       "    }\n",
       "\n",
       "    .dataframe thead th {\n",
       "        text-align: right;\n",
       "    }\n",
       "</style>\n",
       "<table border=\"1\" class=\"dataframe\">\n",
       "  <thead>\n",
       "    <tr style=\"text-align: right;\">\n",
       "      <th></th>\n",
       "      <th>id_sleeper</th>\n",
       "      <th>full_name</th>\n",
       "      <th>player_id</th>\n",
       "      <th>team</th>\n",
       "    </tr>\n",
       "  </thead>\n",
       "  <tbody>\n",
       "    <tr>\n",
       "      <th>4</th>\n",
       "      <td>4810</td>\n",
       "      <td>Kwayde Miller</td>\n",
       "      <td>4810</td>\n",
       "      <td>None</td>\n",
       "    </tr>\n",
       "    <tr>\n",
       "      <th>7</th>\n",
       "      <td>7209</td>\n",
       "      <td>Garrett Taylor</td>\n",
       "      <td>7209</td>\n",
       "      <td>None</td>\n",
       "    </tr>\n",
       "    <tr>\n",
       "      <th>10</th>\n",
       "      <td>5843</td>\n",
       "      <td>Devin Bush</td>\n",
       "      <td>5843</td>\n",
       "      <td>CLE</td>\n",
       "    </tr>\n",
       "    <tr>\n",
       "      <th>11</th>\n",
       "      <td>7719</td>\n",
       "      <td>Jordan Smith</td>\n",
       "      <td>7719</td>\n",
       "      <td>None</td>\n",
       "    </tr>\n",
       "    <tr>\n",
       "      <th>12</th>\n",
       "      <td>5620</td>\n",
       "      <td>Elijaah Goins</td>\n",
       "      <td>5620</td>\n",
       "      <td>None</td>\n",
       "    </tr>\n",
       "    <tr>\n",
       "      <th>...</th>\n",
       "      <td>...</td>\n",
       "      <td>...</td>\n",
       "      <td>...</td>\n",
       "      <td>...</td>\n",
       "    </tr>\n",
       "    <tr>\n",
       "      <th>10558</th>\n",
       "      <td>995</td>\n",
       "      <td>Ron Parker</td>\n",
       "      <td>995</td>\n",
       "      <td>None</td>\n",
       "    </tr>\n",
       "    <tr>\n",
       "      <th>10559</th>\n",
       "      <td>8478</td>\n",
       "      <td>Samuel Womack</td>\n",
       "      <td>8478</td>\n",
       "      <td>SF</td>\n",
       "    </tr>\n",
       "    <tr>\n",
       "      <th>10560</th>\n",
       "      <td>1875</td>\n",
       "      <td>C.J. Mosley</td>\n",
       "      <td>1875</td>\n",
       "      <td>NYJ</td>\n",
       "    </tr>\n",
       "    <tr>\n",
       "      <th>10562</th>\n",
       "      <td>8842</td>\n",
       "      <td>Malkelm Morrison</td>\n",
       "      <td>8842</td>\n",
       "      <td>None</td>\n",
       "    </tr>\n",
       "    <tr>\n",
       "      <th>10563</th>\n",
       "      <td>11255</td>\n",
       "      <td>Nick Amoah</td>\n",
       "      <td>11255</td>\n",
       "      <td>None</td>\n",
       "    </tr>\n",
       "  </tbody>\n",
       "</table>\n",
       "<p>4921 rows × 4 columns</p>\n",
       "</div>"
      ],
      "text/plain": [
       "      id_sleeper         full_name player_id  team\n",
       "4           4810     Kwayde Miller      4810  None\n",
       "7           7209    Garrett Taylor      7209  None\n",
       "10          5843        Devin Bush      5843   CLE\n",
       "11          7719      Jordan Smith      7719  None\n",
       "12          5620     Elijaah Goins      5620  None\n",
       "...          ...               ...       ...   ...\n",
       "10558        995        Ron Parker       995  None\n",
       "10559       8478     Samuel Womack      8478    SF\n",
       "10560       1875       C.J. Mosley      1875   NYJ\n",
       "10562       8842  Malkelm Morrison      8842  None\n",
       "10563      11255        Nick Amoah     11255  None\n",
       "\n",
       "[4921 rows x 4 columns]"
      ]
     },
     "execution_count": 10,
     "metadata": {},
     "output_type": "execute_result"
    }
   ],
   "source": [
    "# Identify players that need to be added to the id dataset\n",
    "ids = pd.read_csv(\"test_data/lu_ids.csv\")\n",
    "allplayers_to_be_added = allplayers.loc[~allplayers['id_sleeper'].isin(ids['id_sleeper'])]\n",
    "allplayers_to_be_added = allplayers_to_be_added.loc[allplayers_to_be_added['team'].notnull()]\n",
    "allplayers_to_be_added = allplayers_to_be_added[['id_sleeper', 'full_name', 'team']]\n",
    "allplayers_to_be_added.to_csv(\"test_data/allplayers_to_be_added.csv\", index=False)\n",
    "allplayers_to_be_added"
   ]
  },
  {
   "cell_type": "code",
   "execution_count": 12,
   "metadata": {},
   "outputs": [],
   "source": [
    "allplayers.to_csv(\"test_data/allplayers.csv\", index=False)"
   ]
  },
  {
   "cell_type": "code",
   "execution_count": null,
   "metadata": {},
   "outputs": [],
   "source": []
  }
 ],
 "metadata": {
  "kernelspec": {
   "display_name": "Python 3.12.3 ('fnfl2024')",
   "language": "python",
   "name": "python3"
  },
  "language_info": {
   "codemirror_mode": {
    "name": "ipython",
    "version": 3
   },
   "file_extension": ".py",
   "mimetype": "text/x-python",
   "name": "python",
   "nbconvert_exporter": "python",
   "pygments_lexer": "ipython3",
   "version": "3.12.3"
  },
  "orig_nbformat": 4,
  "vscode": {
   "interpreter": {
    "hash": "33dbe7c72db16b281083c7de59ed8ec8f22d2824957f89e4bfb828dc6fc75088"
   }
  }
 },
 "nbformat": 4,
 "nbformat_minor": 2
}

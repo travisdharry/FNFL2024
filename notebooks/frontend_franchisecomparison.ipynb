{
 "cells": [
  {
   "cell_type": "code",
   "execution_count": 1,
   "metadata": {},
   "outputs": [],
   "source": [
    "# Import dependencies\n",
    "import json\n",
    "import requests\n",
    "import pandas as pd\n",
    "from flask import Flask, redirect, request, url_for, render_template, session\n",
    "from sleeperpy import User, Leagues\n",
    "import plotly\n",
    "import plotly.express as px\n",
    "import plotly.graph_objects as go"
   ]
  },
  {
   "cell_type": "code",
   "execution_count": 2,
   "metadata": {},
   "outputs": [],
   "source": [
    "#def franchise_comparison():\n",
    "# user_id = session.get(\"user_id\")\n",
    "# league_id = session.get(\"league_id\")\n",
    "user_id = \"725907041763303424\"\n",
    "league_id = \"1049754172834455552\""
   ]
  },
  {
   "cell_type": "code",
   "execution_count": 4,
   "metadata": {},
   "outputs": [
    {
     "data": {
      "text/plain": [
       "<Response [200]>"
      ]
     },
     "execution_count": 4,
     "metadata": {},
     "output_type": "execute_result"
    }
   ],
   "source": [
    "backendapi_franchisecomparison_url = f'https://ygn5at2pt5zgycacip4t6kvrey0ayfrl.lambda-url.us-east-2.on.aws//franchise_comparison/{user_id}/{league_id}'\n",
    "response = requests.get(backendapi_franchisecomparison_url)\n",
    "response"
   ]
  },
  {
   "cell_type": "code",
   "execution_count": 8,
   "metadata": {},
   "outputs": [
    {
     "data": {
      "text/plain": [
       "'utf-8'"
      ]
     },
     "execution_count": 8,
     "metadata": {},
     "output_type": "execute_result"
    }
   ],
   "source": [
    "response.encoding"
   ]
  },
  {
   "cell_type": "code",
   "execution_count": null,
   "metadata": {},
   "outputs": [],
   "source": [
    "# Parse the data\n",
    "backend_response = pd.DataFrame(response)\n"
   ]
  },
  {
   "cell_type": "code",
   "execution_count": null,
   "metadata": {},
   "outputs": [],
   "source": [
    "# Set datatypes\n",
    "backend_response['id_sleeper'] = backend_response['id_sleeper'].astype(str)\n",
    "backend_response['team_name'] = backend_response['team_name'].astype(str)\n",
    "\n",
    "# Aggregate the predicted points\n",
    "player_sums = backend_response.groupby(['id_sleeper'])['predicted_fantasy_points'].sum().to_frame().reset_index()\n",
    "total_franchise_values = backend_response.groupby('team_name')['predicted_fantasy_points'].sum().round(0).to_frame().reset_index()\n",
    "# Merge back in the player info\n",
    "player_info = backend_response.drop(columns=['predicted_fantasy_points', 'week_of_season']).drop_duplicates(ignore_index=True)\n",
    "franchise_comparisons = player_sums.merge(player_info, on='id_sleeper', how='left')\n",
    "# Visualize the data\n",
    "fig = px.bar(franchise_comparisons, \n",
    "            x=\"team_name\", \n",
    "            y='predicted_fantasy_points', \n",
    "            color=\"position\", \n",
    "            text='full_name', \n",
    "            color_discrete_map={ \n",
    "                \"QB\": \"#9CCFD6\", \n",
    "                \"RB\": \"#DEB2AF\", \n",
    "                \"WR\": \"#97BFF0\", \n",
    "                \"TE\": \"#CEE1B2\", \n",
    "                \"K\": \"#F0C397\", \n",
    "                \"DEF\": \"#F0DB97\"}, \n",
    "            category_orders={\n",
    "                \"position\": [\"QB\", \"RB\", \"WR\", \"TE\", \"K\", \"DEF\"]},\n",
    "            hover_name=\"full_name\",\n",
    "            hover_data={\n",
    "                'predicted_fantasy_points':True,\n",
    "                'full_name':False, 'position':False, 'team_name':False\n",
    "                },\n",
    "            labels={\n",
    "                \"team_name\":\"Franchise\",\n",
    "                'predicted_fantasy_points':\"Predicted Points\",\n",
    "            }\n",
    "            )\n",
    "fig.update_traces(\n",
    "    textposition='inside',\n",
    ")\n",
    "fig.update_yaxes(\n",
    "    visible=False\n",
    ")\n",
    "fig.add_trace(go.Scatter(\n",
    "            x=total_franchise_values['team_name'], \n",
    "            y=total_franchise_values['predicted_fantasy_points'],\n",
    "            text=total_franchise_values['predicted_fantasy_points'],\n",
    "            mode='text',\n",
    "            textposition='top center',\n",
    "            textfont=dict(\n",
    "                size=12,\n",
    "            ),\n",
    "            showlegend=False\n",
    "        ))\n",
    "fig.update_layout(\n",
    "            barmode='stack', \n",
    "            xaxis={'categoryorder':'total descending'},\n",
    "            plot_bgcolor='rgba(0,0,0,0)',\n",
    "            title=\"Franchise Comparison\",\n",
    "            font_family=\"Input Serif\",\n",
    "            showlegend=False,\n",
    "            xaxis_title=None\n",
    "            )\n",
    "# graphJSON = json.dumps(fig, cls=plotly.utils.PlotlyJSONEncoder)\n",
    "# return render_template('compareFranchises.html', graphJSON=graphJSON)"
   ]
  },
  {
   "cell_type": "code",
   "execution_count": null,
   "metadata": {},
   "outputs": [],
   "source": [
    "fig.show()"
   ]
  }
 ],
 "metadata": {
  "kernelspec": {
   "display_name": "fnfl2024",
   "language": "python",
   "name": "python3"
  },
  "language_info": {
   "codemirror_mode": {
    "name": "ipython",
    "version": 3
   },
   "file_extension": ".py",
   "mimetype": "text/x-python",
   "name": "python",
   "nbconvert_exporter": "python",
   "pygments_lexer": "ipython3",
   "version": "3.12.3"
  }
 },
 "nbformat": 4,
 "nbformat_minor": 2
}
